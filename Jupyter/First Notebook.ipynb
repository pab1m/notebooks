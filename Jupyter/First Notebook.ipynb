{
 "cells": [
  {
   "cell_type": "markdown",
   "id": "54e9009a-cc4e-424b-9910-53eca18caf15",
   "metadata": {},
   "source": [
    "# First Notebook "
   ]
  },
  {
   "cell_type": "markdown",
   "id": "234d8804-a860-4ed6-8279-646e57172db5",
   "metadata": {
    "jp-MarkdownHeadingCollapsed": true
   },
   "source": [
    "## First Section"
   ]
  },
  {
   "cell_type": "code",
   "execution_count": 1,
   "id": "9423505a-604f-4a5f-be49-440f2a744d15",
   "metadata": {},
   "outputs": [
    {
     "data": {
      "text/plain": [
       "12"
      ]
     },
     "execution_count": 1,
     "metadata": {},
     "output_type": "execute_result"
    }
   ],
   "source": [
    "10 + 2"
   ]
  },
  {
   "cell_type": "code",
   "execution_count": 2,
   "id": "0760619f-80cc-46dc-a2a1-a973f033991d",
   "metadata": {},
   "outputs": [],
   "source": [
    "name = 'Pavlo'"
   ]
  },
  {
   "cell_type": "markdown",
   "id": "9dd5fa62-ef2a-4c88-8226-fc48fa31f287",
   "metadata": {},
   "source": [
    "## Second Section"
   ]
  },
  {
   "cell_type": "code",
   "execution_count": 3,
   "id": "90e47f23-d91d-4ca4-969b-be10429d7afd",
   "metadata": {},
   "outputs": [
    {
     "data": {
      "text/plain": [
       "'My name is Pavlo'"
      ]
     },
     "execution_count": 3,
     "metadata": {},
     "output_type": "execute_result"
    }
   ],
   "source": [
    "f'My name is {name}'"
   ]
  },
  {
   "cell_type": "code",
   "execution_count": null,
   "id": "bc90518c-ec0d-4f18-b51c-4bde4c96ed40",
   "metadata": {},
   "outputs": [],
   "source": [
    "print"
   ]
  }
 ],
 "metadata": {
  "kernelspec": {
   "display_name": "Python 3 (ipykernel)",
   "language": "python",
   "name": "python3"
  },
  "language_info": {
   "codemirror_mode": {
    "name": "ipython",
    "version": 3
   },
   "file_extension": ".py",
   "mimetype": "text/x-python",
   "name": "python",
   "nbconvert_exporter": "python",
   "pygments_lexer": "ipython3",
   "version": "3.11.1"
  }
 },
 "nbformat": 4,
 "nbformat_minor": 5
}

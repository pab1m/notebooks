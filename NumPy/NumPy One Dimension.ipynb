{
 "cells": [
  {
   "cell_type": "code",
   "execution_count": 3,
   "id": "27cf28d1-e584-49a2-879b-d7f64b0264e7",
   "metadata": {},
   "outputs": [],
   "source": [
    "import numpy as np"
   ]
  },
  {
   "cell_type": "code",
   "execution_count": 5,
   "id": "df8fed13-ad58-47dd-9c00-3163a0b4e318",
   "metadata": {},
   "outputs": [
    {
     "data": {
      "text/plain": [
       "array([1, 2, 3, 4])"
      ]
     },
     "execution_count": 5,
     "metadata": {},
     "output_type": "execute_result"
    }
   ],
   "source": [
    "nums_array = np.array([1, 2, 3, 4])\n",
    "nums_array"
   ]
  },
  {
   "cell_type": "code",
   "execution_count": 6,
   "id": "d3c6c24c-3270-48e6-a197-af2072a7da99",
   "metadata": {},
   "outputs": [
    {
     "data": {
      "text/plain": [
       "numpy.ndarray"
      ]
     },
     "execution_count": 6,
     "metadata": {},
     "output_type": "execute_result"
    }
   ],
   "source": [
    "type(nums_array)"
   ]
  },
  {
   "cell_type": "code",
   "execution_count": 9,
   "id": "bbc88ebf-cbde-4638-8675-efa32a7e5445",
   "metadata": {},
   "outputs": [
    {
     "data": {
      "text/plain": [
       "4"
      ]
     },
     "execution_count": 9,
     "metadata": {},
     "output_type": "execute_result"
    }
   ],
   "source": [
    "nums_array[-1]"
   ]
  },
  {
   "cell_type": "code",
   "execution_count": 10,
   "id": "af8f481e-0111-4ca2-a520-a89467efe459",
   "metadata": {},
   "outputs": [
    {
     "data": {
      "text/plain": [
       "(4,)"
      ]
     },
     "execution_count": 10,
     "metadata": {},
     "output_type": "execute_result"
    }
   ],
   "source": [
    "nums_array.shape"
   ]
  },
  {
   "cell_type": "code",
   "execution_count": 11,
   "id": "0b8fc243-ec4d-477c-a2d8-1aa5d5a02b4e",
   "metadata": {},
   "outputs": [
    {
     "data": {
      "text/plain": [
       "4"
      ]
     },
     "execution_count": 11,
     "metadata": {},
     "output_type": "execute_result"
    }
   ],
   "source": [
    "nums_array.size"
   ]
  },
  {
   "cell_type": "code",
   "execution_count": 12,
   "id": "a04676e5-7c65-4090-940d-cffcbd9cea03",
   "metadata": {},
   "outputs": [
    {
     "data": {
      "text/plain": [
       "dtype('int32')"
      ]
     },
     "execution_count": 12,
     "metadata": {},
     "output_type": "execute_result"
    }
   ],
   "source": [
    "nums_array.dtype"
   ]
  },
  {
   "cell_type": "code",
   "execution_count": 13,
   "id": "f512dd1c-7df0-46bb-af14-1ec205ea9103",
   "metadata": {},
   "outputs": [
    {
     "data": {
      "text/plain": [
       "4"
      ]
     },
     "execution_count": 13,
     "metadata": {},
     "output_type": "execute_result"
    }
   ],
   "source": [
    "nums_array.itemsize"
   ]
  },
  {
   "cell_type": "code",
   "execution_count": 18,
   "id": "a811730b-646b-475e-895a-6a6d66506a5e",
   "metadata": {},
   "outputs": [
    {
     "data": {
      "text/plain": [
       "array(['True', '10', 'abc', '5.5'], dtype='<U32')"
      ]
     },
     "execution_count": 18,
     "metadata": {},
     "output_type": "execute_result"
    }
   ],
   "source": [
    "str_array = np.array([True, 10, 'abc', 5.5])\n",
    "str_array"
   ]
  },
  {
   "cell_type": "code",
   "execution_count": 19,
   "id": "01a06eb5-e5ea-4df3-94a7-80a0a064811c",
   "metadata": {},
   "outputs": [
    {
     "data": {
      "text/plain": [
       "'str1024'"
      ]
     },
     "execution_count": 19,
     "metadata": {},
     "output_type": "execute_result"
    }
   ],
   "source": [
    "str_array.dtype.name"
   ]
  },
  {
   "cell_type": "code",
   "execution_count": 20,
   "id": "7facb656-ae5d-4767-bb5f-de53b176d674",
   "metadata": {},
   "outputs": [
    {
     "data": {
      "text/plain": [
       "128"
      ]
     },
     "execution_count": 20,
     "metadata": {},
     "output_type": "execute_result"
    }
   ],
   "source": [
    "str_array.itemsize"
   ]
  },
  {
   "cell_type": "code",
   "execution_count": 21,
   "id": "13e37ee6-3592-47a1-a5b3-214e20621b0a",
   "metadata": {},
   "outputs": [
    {
     "data": {
      "text/plain": [
       "array([{'city': 'London'}, {'city': 'Boston'}], dtype=object)"
      ]
     },
     "execution_count": 21,
     "metadata": {},
     "output_type": "execute_result"
    }
   ],
   "source": [
    "obj_array = np.array([{'city': 'London'}, {'city': 'Boston'}])\n",
    "obj_array"
   ]
  },
  {
   "cell_type": "code",
   "execution_count": 22,
   "id": "9cf7846e-8e71-4449-9436-8028ed165c48",
   "metadata": {},
   "outputs": [
    {
     "data": {
      "text/plain": [
       "8"
      ]
     },
     "execution_count": 22,
     "metadata": {},
     "output_type": "execute_result"
    }
   ],
   "source": [
    "obj_array.itemsize"
   ]
  },
  {
   "cell_type": "code",
   "execution_count": 23,
   "id": "41b65010-6f3b-4d2a-8570-9e64c760580a",
   "metadata": {},
   "outputs": [
    {
     "data": {
      "text/plain": [
       "'object'"
      ]
     },
     "execution_count": 23,
     "metadata": {},
     "output_type": "execute_result"
    }
   ],
   "source": [
    "obj_array.dtype.name"
   ]
  }
 ],
 "metadata": {
  "kernelspec": {
   "display_name": "Python 3 (ipykernel)",
   "language": "python",
   "name": "python3"
  },
  "language_info": {
   "codemirror_mode": {
    "name": "ipython",
    "version": 3
   },
   "file_extension": ".py",
   "mimetype": "text/x-python",
   "name": "python",
   "nbconvert_exporter": "python",
   "pygments_lexer": "ipython3",
   "version": "3.11.1"
  }
 },
 "nbformat": 4,
 "nbformat_minor": 5
}

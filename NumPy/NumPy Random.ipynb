{
 "cells": [
  {
   "cell_type": "code",
   "execution_count": 1,
   "id": "af9ebb72-098d-455c-ab81-ae0810374694",
   "metadata": {},
   "outputs": [],
   "source": [
    "import numpy as np"
   ]
  },
  {
   "cell_type": "code",
   "execution_count": 7,
   "id": "0534ac4b-80fd-4a19-bf61-bb8ac1607644",
   "metadata": {},
   "outputs": [
    {
     "data": {
      "text/plain": [
       "array([[0, 0, 0, 0],\n",
       "       [0, 0, 0, 0]])"
      ]
     },
     "execution_count": 7,
     "metadata": {},
     "output_type": "execute_result"
    }
   ],
   "source": [
    "np.zeros((2, 4), dtype=int)"
   ]
  },
  {
   "cell_type": "code",
   "execution_count": 8,
   "id": "d1e68272-4fee-4545-9e7e-2589177a90c0",
   "metadata": {},
   "outputs": [
    {
     "data": {
      "text/plain": [
       "array([[1, 1, 1],\n",
       "       [1, 1, 1],\n",
       "       [1, 1, 1],\n",
       "       [1, 1, 1],\n",
       "       [1, 1, 1]])"
      ]
     },
     "execution_count": 8,
     "metadata": {},
     "output_type": "execute_result"
    }
   ],
   "source": [
    "np.ones((5, 3), dtype=int)"
   ]
  },
  {
   "cell_type": "code",
   "execution_count": 28,
   "id": "63db9190-864b-4af3-82bd-7cf6b18a08b3",
   "metadata": {},
   "outputs": [
    {
     "data": {
      "text/plain": [
       "array([[0.77132064, 0.02075195, 0.63364823, 0.74880388, 0.49850701,\n",
       "        0.22479665, 0.19806286, 0.76053071, 0.16911084, 0.08833981],\n",
       "       [0.68535982, 0.95339335, 0.00394827, 0.51219226, 0.81262096,\n",
       "        0.61252607, 0.72175532, 0.29187607, 0.91777412, 0.71457578],\n",
       "       [0.54254437, 0.14217005, 0.37334076, 0.67413362, 0.44183317,\n",
       "        0.43401399, 0.61776698, 0.51313824, 0.65039718, 0.60103895],\n",
       "       [0.8052232 , 0.52164715, 0.90864888, 0.31923609, 0.09045935,\n",
       "        0.30070006, 0.11398436, 0.82868133, 0.04689632, 0.62628715],\n",
       "       [0.54758616, 0.819287  , 0.19894754, 0.8568503 , 0.35165264,\n",
       "        0.75464769, 0.29596171, 0.88393648, 0.32551164, 0.1650159 ],\n",
       "       [0.39252924, 0.09346037, 0.82110566, 0.15115202, 0.38411445,\n",
       "        0.94426071, 0.98762547, 0.45630455, 0.82612284, 0.25137413],\n",
       "       [0.59737165, 0.90283176, 0.53455795, 0.59020136, 0.03928177,\n",
       "        0.35718176, 0.07961309, 0.30545992, 0.33071931, 0.7738303 ],\n",
       "       [0.03995921, 0.42949218, 0.31492687, 0.63649114, 0.34634715,\n",
       "        0.04309736, 0.87991517, 0.76324059, 0.87809664, 0.41750914],\n",
       "       [0.60557756, 0.51346663, 0.59783665, 0.26221566, 0.30087131,\n",
       "        0.02539978, 0.30306256, 0.24207588, 0.55757819, 0.56550702],\n",
       "       [0.47513225, 0.29279798, 0.06425106, 0.97881915, 0.33970784,\n",
       "        0.49504863, 0.97708073, 0.44077382, 0.31827281, 0.51979699]])"
      ]
     },
     "execution_count": 28,
     "metadata": {},
     "output_type": "execute_result"
    }
   ],
   "source": [
    "np.random.seed(10)\n",
    "np.random.random((10, 10))"
   ]
  },
  {
   "cell_type": "code",
   "execution_count": 40,
   "id": "ac2155c5-159d-485d-a76b-9ac0873d534b",
   "metadata": {},
   "outputs": [
    {
     "data": {
      "text/plain": [
       "array([[18, 15, 15, 17],\n",
       "       [10, 17, 15, 16]])"
      ]
     },
     "execution_count": 40,
     "metadata": {},
     "output_type": "execute_result"
    }
   ],
   "source": [
    "np.random.seed(15)\n",
    "np.random.randint(10, 20, size=(2, 4))"
   ]
  },
  {
   "cell_type": "code",
   "execution_count": 44,
   "id": "6ddf9750-ab85-4f0d-b165-0a3ff9d781ad",
   "metadata": {},
   "outputs": [
    {
     "data": {
      "text/plain": [
       "array([[0.32976593, 0.19542482, 0.68404621, 0.35109886, 0.77103611],\n",
       "       [0.7917995 , 0.44387459, 0.2688283 , 0.02390442, 0.37133257],\n",
       "       [0.09773088, 0.72752255, 0.45944443, 0.52049647, 0.68456904]])"
      ]
     },
     "execution_count": 44,
     "metadata": {},
     "output_type": "execute_result"
    }
   ],
   "source": [
    "np.random.uniform(size=(3, 5))"
   ]
  },
  {
   "cell_type": "code",
   "execution_count": 52,
   "id": "e568ad5e-a964-4b64-b458-72bf2433684a",
   "metadata": {},
   "outputs": [
    {
     "data": {
      "text/plain": [
       "array([[14.06573728, 19.95859685, 48.66449269, 42.87386022, 27.40464523],\n",
       "       [43.11249344, 11.90147959, 40.79412975, 48.62406252, 11.23492538],\n",
       "       [33.63584049, 39.93343309, 17.93722162, 28.09064087, 20.11076108]])"
      ]
     },
     "execution_count": 52,
     "metadata": {},
     "output_type": "execute_result"
    }
   ],
   "source": [
    "np.random.uniform(10.0, 50.0, size=(3, 5))"
   ]
  },
  {
   "cell_type": "code",
   "execution_count": 55,
   "id": "34ccc394-9332-4c54-a188-bcde51780374",
   "metadata": {},
   "outputs": [
    {
     "data": {
      "text/plain": [
       "array([2, 2, 1, 1, 2, 1, 2, 2, 1, 2])"
      ]
     },
     "execution_count": 55,
     "metadata": {},
     "output_type": "execute_result"
    }
   ],
   "source": [
    "np.random.seed(10)\n",
    "np.random.choice(np.array([1, 2, 3]), size=10)"
   ]
  }
 ],
 "metadata": {
  "kernelspec": {
   "display_name": "Python 3 (ipykernel)",
   "language": "python",
   "name": "python3"
  },
  "language_info": {
   "codemirror_mode": {
    "name": "ipython",
    "version": 3
   },
   "file_extension": ".py",
   "mimetype": "text/x-python",
   "name": "python",
   "nbconvert_exporter": "python",
   "pygments_lexer": "ipython3",
   "version": "3.11.1"
  }
 },
 "nbformat": 4,
 "nbformat_minor": 5
}

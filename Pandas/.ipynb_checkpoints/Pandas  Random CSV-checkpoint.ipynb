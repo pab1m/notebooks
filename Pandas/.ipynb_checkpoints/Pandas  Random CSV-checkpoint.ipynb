{
 "cells": [
  {
   "cell_type": "code",
   "execution_count": 107,
   "id": "6f0d323a-7409-48ae-9998-212650f415a9",
   "metadata": {},
   "outputs": [],
   "source": [
    "#!pip install matplotlib"
   ]
  },
  {
   "cell_type": "code",
   "execution_count": 108,
   "id": "bd851c6a-cf9f-45c6-af9a-01a3b6ab51e6",
   "metadata": {},
   "outputs": [],
   "source": [
    "import pandas as pd\n",
    "import numpy as np\n",
    "import matplotlib.pyplot as plt"
   ]
  },
  {
   "cell_type": "code",
   "execution_count": 109,
   "id": "5cd5bc66-70e6-47ec-abf9-eb75031b38c6",
   "metadata": {},
   "outputs": [
    {
     "data": {
      "text/html": [
       "<div>\n",
       "<style scoped>\n",
       "    .dataframe tbody tr th:only-of-type {\n",
       "        vertical-align: middle;\n",
       "    }\n",
       "\n",
       "    .dataframe tbody tr th {\n",
       "        vertical-align: top;\n",
       "    }\n",
       "\n",
       "    .dataframe thead th {\n",
       "        text-align: right;\n",
       "    }\n",
       "</style>\n",
       "<table border=\"1\" class=\"dataframe\">\n",
       "  <thead>\n",
       "    <tr style=\"text-align: right;\">\n",
       "      <th></th>\n",
       "      <th>Date</th>\n",
       "      <th>Product</th>\n",
       "      <th>Price</th>\n",
       "      <th>Quantity</th>\n",
       "    </tr>\n",
       "  </thead>\n",
       "  <tbody>\n",
       "    <tr>\n",
       "      <th>0</th>\n",
       "      <td>2050-01-01</td>\n",
       "      <td>Microphone</td>\n",
       "      <td>147.16</td>\n",
       "      <td>7</td>\n",
       "    </tr>\n",
       "    <tr>\n",
       "      <th>1</th>\n",
       "      <td>2050-01-02</td>\n",
       "      <td>Keyboard</td>\n",
       "      <td>103.09</td>\n",
       "      <td>10</td>\n",
       "    </tr>\n",
       "    <tr>\n",
       "      <th>2</th>\n",
       "      <td>2050-01-03</td>\n",
       "      <td>TabLet</td>\n",
       "      <td>164.48</td>\n",
       "      <td>7</td>\n",
       "    </tr>\n",
       "    <tr>\n",
       "      <th>3</th>\n",
       "      <td>2050-01-04</td>\n",
       "      <td>Camera</td>\n",
       "      <td>103.48</td>\n",
       "      <td>1</td>\n",
       "    </tr>\n",
       "    <tr>\n",
       "      <th>4</th>\n",
       "      <td>2050-01-05</td>\n",
       "      <td>Microphone</td>\n",
       "      <td>162.92</td>\n",
       "      <td>1</td>\n",
       "    </tr>\n",
       "  </tbody>\n",
       "</table>\n",
       "</div>"
      ],
      "text/plain": [
       "        Date     Product   Price  Quantity\n",
       "0 2050-01-01  Microphone  147.16         7\n",
       "1 2050-01-02    Keyboard  103.09        10\n",
       "2 2050-01-03      TabLet  164.48         7\n",
       "3 2050-01-04      Camera  103.48         1\n",
       "4 2050-01-05  Microphone  162.92         1"
      ]
     },
     "execution_count": 109,
     "metadata": {},
     "output_type": "execute_result"
    }
   ],
   "source": [
    "np.random.seed(1)\n",
    "n = 100\n",
    "dates = pd.date_range(start='2050-01-01', periods=n, freq='D')\n",
    "products = np.random.choice(['TabLet', 'Camera', 'Phone', 'Microphone', 'Keyboard'], n)\n",
    "prices = np.round(np.random.uniform(50.0, 200.0, n), 2)\n",
    "quantities = np.random.randint(1, 15, n)\n",
    "\n",
    "data = {\n",
    "    'Date': dates,\n",
    "    'Product': products,\n",
    "    'Price': prices,\n",
    "    'Quantity' : quantities\n",
    "}\n",
    "\n",
    "df = pd.DataFrame(data)\n",
    "df.head()"
   ]
  },
  {
   "cell_type": "code",
   "execution_count": 110,
   "id": "a6d44421-9dc9-4d8f-b36d-430ada8e0336",
   "metadata": {},
   "outputs": [],
   "source": [
    "df.to_csv('random_sales.csv', index=False)"
   ]
  },
  {
   "cell_type": "code",
   "execution_count": 111,
   "id": "e2525687-edc4-4291-a80c-1d0f8e7d679a",
   "metadata": {},
   "outputs": [
    {
     "data": {
      "text/html": [
       "<div>\n",
       "<style scoped>\n",
       "    .dataframe tbody tr th:only-of-type {\n",
       "        vertical-align: middle;\n",
       "    }\n",
       "\n",
       "    .dataframe tbody tr th {\n",
       "        vertical-align: top;\n",
       "    }\n",
       "\n",
       "    .dataframe thead th {\n",
       "        text-align: right;\n",
       "    }\n",
       "</style>\n",
       "<table border=\"1\" class=\"dataframe\">\n",
       "  <thead>\n",
       "    <tr style=\"text-align: right;\">\n",
       "      <th></th>\n",
       "      <th>Date</th>\n",
       "      <th>Product</th>\n",
       "      <th>Price</th>\n",
       "      <th>Quantity</th>\n",
       "    </tr>\n",
       "  </thead>\n",
       "  <tbody>\n",
       "    <tr>\n",
       "      <th>0</th>\n",
       "      <td>2050-01-01</td>\n",
       "      <td>Microphone</td>\n",
       "      <td>147.16</td>\n",
       "      <td>7</td>\n",
       "    </tr>\n",
       "    <tr>\n",
       "      <th>1</th>\n",
       "      <td>2050-01-02</td>\n",
       "      <td>Keyboard</td>\n",
       "      <td>103.09</td>\n",
       "      <td>10</td>\n",
       "    </tr>\n",
       "    <tr>\n",
       "      <th>2</th>\n",
       "      <td>2050-01-03</td>\n",
       "      <td>TabLet</td>\n",
       "      <td>164.48</td>\n",
       "      <td>7</td>\n",
       "    </tr>\n",
       "    <tr>\n",
       "      <th>3</th>\n",
       "      <td>2050-01-04</td>\n",
       "      <td>Camera</td>\n",
       "      <td>103.48</td>\n",
       "      <td>1</td>\n",
       "    </tr>\n",
       "    <tr>\n",
       "      <th>4</th>\n",
       "      <td>2050-01-05</td>\n",
       "      <td>Microphone</td>\n",
       "      <td>162.92</td>\n",
       "      <td>1</td>\n",
       "    </tr>\n",
       "  </tbody>\n",
       "</table>\n",
       "</div>"
      ],
      "text/plain": [
       "        Date     Product   Price  Quantity\n",
       "0 2050-01-01  Microphone  147.16         7\n",
       "1 2050-01-02    Keyboard  103.09        10\n",
       "2 2050-01-03      TabLet  164.48         7\n",
       "3 2050-01-04      Camera  103.48         1\n",
       "4 2050-01-05  Microphone  162.92         1"
      ]
     },
     "execution_count": 111,
     "metadata": {},
     "output_type": "execute_result"
    }
   ],
   "source": [
    "df = pd.read_csv('random_sales.csv', parse_dates=['Date'], date_format='%Y-%m-%d')\n",
    "df.head()"
   ]
  },
  {
   "cell_type": "code",
   "execution_count": 112,
   "id": "ea35536c-fa25-4d1b-b04c-c377332587df",
   "metadata": {},
   "outputs": [
    {
     "data": {
      "text/plain": [
       "Date        datetime64[ns]\n",
       "Product             object\n",
       "Price              float64\n",
       "Quantity             int64\n",
       "dtype: object"
      ]
     },
     "execution_count": 112,
     "metadata": {},
     "output_type": "execute_result"
    }
   ],
   "source": [
    "df.dtypes"
   ]
  },
  {
   "cell_type": "code",
   "execution_count": 113,
   "id": "cfe7c06b-e089-48cc-b813-cbcbd2a5f934",
   "metadata": {},
   "outputs": [],
   "source": [
    "df.to_excel('sales_data.xlsx')"
   ]
  },
  {
   "cell_type": "code",
   "execution_count": 114,
   "id": "53b6d259-c1d9-4927-97b6-23ca606a775b",
   "metadata": {},
   "outputs": [],
   "source": [
    "df.to_json('sales_data.json')"
   ]
  },
  {
   "cell_type": "code",
   "execution_count": 115,
   "id": "43eb71f3-de87-49a5-b932-13b383beaacf",
   "metadata": {},
   "outputs": [
    {
     "data": {
      "text/html": [
       "<div>\n",
       "<style scoped>\n",
       "    .dataframe tbody tr th:only-of-type {\n",
       "        vertical-align: middle;\n",
       "    }\n",
       "\n",
       "    .dataframe tbody tr th {\n",
       "        vertical-align: top;\n",
       "    }\n",
       "\n",
       "    .dataframe thead th {\n",
       "        text-align: right;\n",
       "    }\n",
       "</style>\n",
       "<table border=\"1\" class=\"dataframe\">\n",
       "  <thead>\n",
       "    <tr style=\"text-align: right;\">\n",
       "      <th></th>\n",
       "      <th>Date</th>\n",
       "      <th>Product</th>\n",
       "      <th>Price</th>\n",
       "      <th>Quantity</th>\n",
       "    </tr>\n",
       "  </thead>\n",
       "  <tbody>\n",
       "    <tr>\n",
       "      <th>0</th>\n",
       "      <td>2050-01-01</td>\n",
       "      <td>Microphone</td>\n",
       "      <td>147.16</td>\n",
       "      <td>7</td>\n",
       "    </tr>\n",
       "    <tr>\n",
       "      <th>1</th>\n",
       "      <td>2050-01-02</td>\n",
       "      <td>Keyboard</td>\n",
       "      <td>103.09</td>\n",
       "      <td>10</td>\n",
       "    </tr>\n",
       "    <tr>\n",
       "      <th>2</th>\n",
       "      <td>2050-01-03</td>\n",
       "      <td>TabLet</td>\n",
       "      <td>164.48</td>\n",
       "      <td>7</td>\n",
       "    </tr>\n",
       "    <tr>\n",
       "      <th>3</th>\n",
       "      <td>2050-01-04</td>\n",
       "      <td>Camera</td>\n",
       "      <td>103.48</td>\n",
       "      <td>1</td>\n",
       "    </tr>\n",
       "    <tr>\n",
       "      <th>4</th>\n",
       "      <td>2050-01-05</td>\n",
       "      <td>Microphone</td>\n",
       "      <td>162.92</td>\n",
       "      <td>1</td>\n",
       "    </tr>\n",
       "  </tbody>\n",
       "</table>\n",
       "</div>"
      ],
      "text/plain": [
       "        Date     Product   Price  Quantity\n",
       "0 2050-01-01  Microphone  147.16         7\n",
       "1 2050-01-02    Keyboard  103.09        10\n",
       "2 2050-01-03      TabLet  164.48         7\n",
       "3 2050-01-04      Camera  103.48         1\n",
       "4 2050-01-05  Microphone  162.92         1"
      ]
     },
     "execution_count": 115,
     "metadata": {},
     "output_type": "execute_result"
    }
   ],
   "source": [
    "df.head()"
   ]
  },
  {
   "cell_type": "code",
   "execution_count": 116,
   "id": "4cef8664-23b2-4d3f-b20a-56143c66768d",
   "metadata": {},
   "outputs": [
    {
     "data": {
      "text/plain": [
       "(100, 4)"
      ]
     },
     "execution_count": 116,
     "metadata": {},
     "output_type": "execute_result"
    }
   ],
   "source": [
    "df.shape"
   ]
  },
  {
   "cell_type": "code",
   "execution_count": 117,
   "id": "36ae8706-faa4-4119-be44-c568fa1f4982",
   "metadata": {},
   "outputs": [
    {
     "data": {
      "text/html": [
       "<div>\n",
       "<style scoped>\n",
       "    .dataframe tbody tr th:only-of-type {\n",
       "        vertical-align: middle;\n",
       "    }\n",
       "\n",
       "    .dataframe tbody tr th {\n",
       "        vertical-align: top;\n",
       "    }\n",
       "\n",
       "    .dataframe thead th {\n",
       "        text-align: right;\n",
       "    }\n",
       "</style>\n",
       "<table border=\"1\" class=\"dataframe\">\n",
       "  <thead>\n",
       "    <tr style=\"text-align: right;\">\n",
       "      <th></th>\n",
       "      <th>Date</th>\n",
       "      <th>Price</th>\n",
       "      <th>Quantity</th>\n",
       "    </tr>\n",
       "  </thead>\n",
       "  <tbody>\n",
       "    <tr>\n",
       "      <th>count</th>\n",
       "      <td>100</td>\n",
       "      <td>100.00</td>\n",
       "      <td>100.00</td>\n",
       "    </tr>\n",
       "    <tr>\n",
       "      <th>mean</th>\n",
       "      <td>2050-02-19 12:00:00</td>\n",
       "      <td>117.32</td>\n",
       "      <td>7.79</td>\n",
       "    </tr>\n",
       "    <tr>\n",
       "      <th>min</th>\n",
       "      <td>2050-01-01 00:00:00</td>\n",
       "      <td>51.35</td>\n",
       "      <td>1.00</td>\n",
       "    </tr>\n",
       "    <tr>\n",
       "      <th>25%</th>\n",
       "      <td>2050-01-25 18:00:00</td>\n",
       "      <td>81.13</td>\n",
       "      <td>5.00</td>\n",
       "    </tr>\n",
       "    <tr>\n",
       "      <th>50%</th>\n",
       "      <td>2050-02-19 12:00:00</td>\n",
       "      <td>114.10</td>\n",
       "      <td>8.00</td>\n",
       "    </tr>\n",
       "    <tr>\n",
       "      <th>75%</th>\n",
       "      <td>2050-03-16 06:00:00</td>\n",
       "      <td>161.21</td>\n",
       "      <td>11.25</td>\n",
       "    </tr>\n",
       "    <tr>\n",
       "      <th>max</th>\n",
       "      <td>2050-04-10 00:00:00</td>\n",
       "      <td>197.26</td>\n",
       "      <td>14.00</td>\n",
       "    </tr>\n",
       "    <tr>\n",
       "      <th>std</th>\n",
       "      <td>NaN</td>\n",
       "      <td>42.47</td>\n",
       "      <td>4.03</td>\n",
       "    </tr>\n",
       "  </tbody>\n",
       "</table>\n",
       "</div>"
      ],
      "text/plain": [
       "                      Date   Price  Quantity\n",
       "count                  100  100.00    100.00\n",
       "mean   2050-02-19 12:00:00  117.32      7.79\n",
       "min    2050-01-01 00:00:00   51.35      1.00\n",
       "25%    2050-01-25 18:00:00   81.13      5.00\n",
       "50%    2050-02-19 12:00:00  114.10      8.00\n",
       "75%    2050-03-16 06:00:00  161.21     11.25\n",
       "max    2050-04-10 00:00:00  197.26     14.00\n",
       "std                    NaN   42.47      4.03"
      ]
     },
     "execution_count": 117,
     "metadata": {},
     "output_type": "execute_result"
    }
   ],
   "source": [
    "df.describe().round(2)"
   ]
  },
  {
   "cell_type": "code",
   "execution_count": 118,
   "id": "702365dc-d7cc-433f-8f62-6e8959cd277c",
   "metadata": {},
   "outputs": [
    {
     "data": {
      "text/plain": [
       "array([[Timestamp('2050-01-01 00:00:00'), 'Microphone', 147.16, 7],\n",
       "       [Timestamp('2050-01-02 00:00:00'), 'Keyboard', 103.09, 10],\n",
       "       [Timestamp('2050-01-03 00:00:00'), 'TabLet', 164.48, 7],\n",
       "       [Timestamp('2050-01-04 00:00:00'), 'Camera', 103.48, 1],\n",
       "       [Timestamp('2050-01-05 00:00:00'), 'Microphone', 162.92, 1]],\n",
       "      dtype=object)"
      ]
     },
     "execution_count": 118,
     "metadata": {},
     "output_type": "execute_result"
    }
   ],
   "source": [
    "df.values[:5]"
   ]
  },
  {
   "cell_type": "code",
   "execution_count": 119,
   "id": "34a59c39-cd34-4386-9b75-397fafa48bc6",
   "metadata": {},
   "outputs": [
    {
     "data": {
      "text/plain": [
       "Product\n",
       "Camera        186\n",
       "Keyboard      173\n",
       "Microphone    106\n",
       "Phone         124\n",
       "TabLet        190\n",
       "Name: Quantity, dtype: int64"
      ]
     },
     "execution_count": 119,
     "metadata": {},
     "output_type": "execute_result"
    }
   ],
   "source": [
    "products_sales = df.groupby('Product')['Quantity'].sum()\n",
    "products_sales"
   ]
  },
  {
   "cell_type": "code",
   "execution_count": 120,
   "id": "8b1531ad-2aa8-48bc-9c29-fdd93320c63b",
   "metadata": {},
   "outputs": [
    {
     "data": {
      "text/plain": [
       "Product\n",
       "Camera        121.54\n",
       "Keyboard      115.61\n",
       "Microphone    129.43\n",
       "Phone         123.47\n",
       "TabLet        100.17\n",
       "Name: Price, dtype: float64"
      ]
     },
     "execution_count": 120,
     "metadata": {},
     "output_type": "execute_result"
    }
   ],
   "source": [
    "average_prices = df.groupby('Product')['Price'].mean().round(2)\n",
    "average_prices"
   ]
  },
  {
   "cell_type": "code",
   "execution_count": 121,
   "id": "5d540a60-c1e4-486f-8e71-89c77552a03c",
   "metadata": {},
   "outputs": [
    {
     "data": {
      "image/png": "[encoded data removed]",
      "text/plain": [
       "<Figure size 640x480 with 1 Axes>"
      ]
     },
     "metadata": {},
     "output_type": "display_data"
    }
   ],
   "source": [
    "plt.bar(products_sales.index, products_sales.values, color=['red', 'green', 'blue'])\n",
    "plt.title('TotaI Seles per Product')\n",
    "plt.xlabel('Product')\n",
    "plt.ylabel('Total Sales')\n",
    "plt.show()"
   ]
  },
  {
   "cell_type": "code",
   "execution_count": 122,
   "id": "0460365b-bad5-4ab3-811e-5b2438bcf9dd",
   "metadata": {},
   "outputs": [
    {
     "data": {
      "image/png": "[encoded data removed]",
      "text/plain": [
       "<Figure size 640x480 with 1 Axes>"
      ]
     },
     "metadata": {},
     "output_type": "display_data"
    }
   ],
   "source": [
    "plt.plot(average_prices.index, average_prices.values)\n",
    "plt.title('Average Price per Product')\n",
    "plt.xlabel('Product')\n",
    "plt.ylabel('Average Price')\n",
    "plt.show()"
   ]
  }
 ],
 "metadata": {
  "kernelspec": {
   "display_name": "Python 3 (ipykernel)",
   "language": "python",
   "name": "python3"
  },
  "language_info": {
   "codemirror_mode": {
    "name": "ipython",
    "version": 3
   },
   "file_extension": ".py",
   "mimetype": "text/x-python",
   "name": "python",
   "nbconvert_exporter": "python",
   "pygments_lexer": "ipython3",
   "version": "3.11.1"
  }
 },
 "nbformat": 4,
 "nbformat_minor": 5
}
